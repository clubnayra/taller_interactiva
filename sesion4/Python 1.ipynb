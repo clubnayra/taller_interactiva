{
 "cells": [
  {
   "cell_type": "markdown",
   "metadata": {},
   "source": [
    "# Tutorial de python básico\n",
    "\n",
    "En este tutorial veremos algunas de las funcionalidades básicas del lenguaje Python."
   ]
  },
  {
   "cell_type": "markdown",
   "metadata": {},
   "source": [
    "## Condicionales y control de flujo\n",
    "Las sentencias condicionales y bucles nos ayudan a ejecutar codigo de manera estructurada y permiten construir programas mas complejos."
   ]
  },
  {
   "cell_type": "code",
   "execution_count": 1,
   "metadata": {},
   "outputs": [
    {
     "name": "stdout",
     "output_type": "stream",
     "text": [
      "a es mayor que 5\n"
     ]
    }
   ],
   "source": [
    "# La sentencia if:\n",
    "a = 10\n",
    "\n",
    "if a > 5:\n",
    "    print(\"a es mayor que 5\")\n",
    "else:\n",
    "    print(\"a no es mayor que 5\")"
   ]
  },
  {
   "cell_type": "code",
   "execution_count": 2,
   "metadata": {},
   "outputs": [
    {
     "name": "stdout",
     "output_type": "stream",
     "text": [
      "ingrese un numero par:3\n",
      "ingrese un numero par:4\n",
      "ingrese un numero par:4\n",
      "ingrese un numero par:4\n",
      "ingrese un numero par:4\n",
      "ingrese un numero par:4\n"
     ]
    }
   ],
   "source": [
    "# La sentencia while:\n",
    "b = 0\n",
    "while b < 5:\n",
    "    n = int(input(\"ingrese un numero par:\"))\n",
    "    if (n % 2) == 0:\n",
    "        b = b + 1\n",
    "\n",
    "print(\"ya fue suficiente\")"
   ]
  },
  {
   "cell_type": "code",
   "execution_count": 5,
   "metadata": {},
   "outputs": [
    {
     "name": "stdout",
     "output_type": "stream",
     "text": [
      "0 python es divertido!\n",
      "1 python es divertido!\n",
      "2 python es divertido!\n",
      "3 python es divertido!\n"
     ]
    }
   ],
   "source": [
    "# La sentencia for:\n",
    "c = 4\n",
    "for i in range(c):\n",
    "    print(str(i) + ' python es divertido!')\n",
    "    "
   ]
  },
  {
   "cell_type": "markdown",
   "metadata": {},
   "source": [
    "## Funciones\n",
    "Las funciones en python se declaran con el keyword '''def'''\n",
    "Al ser un lenguaje de tipos dinámicos, las funciones de python no necesitan especificar el tipo de valor que devuelven, se puede devolver cualquier objeto desde una funcion y aceptar cualquier tipo de argumento (incluyendo funciones)."
   ]
  },
  {
   "cell_type": "code",
   "execution_count": 12,
   "metadata": {},
   "outputs": [
    {
     "name": "stdout",
     "output_type": "stream",
     "text": [
      "10\n"
     ]
    }
   ],
   "source": [
    "# declaración de una función\n",
    "def sumaTrucha(a, b):\n",
    "    \"Realiza una suma trucha\"\n",
    "    return a + b - 1\n",
    "\n",
    "n1 = 7\n",
    "n2 = 4\n",
    "print(sumaTrucha(n1, n2))"
   ]
  },
  {
   "cell_type": "code",
   "execution_count": 14,
   "metadata": {},
   "outputs": [
    {
     "name": "stdout",
     "output_type": "stream",
     "text": [
      "nombre: coco\n",
      "edad: 45\n",
      "nombre: cachuchin\n",
      "edad: 10\n"
     ]
    }
   ],
   "source": [
    "# las los argumentos pueden ser definidos mediante keywords\n",
    "\n",
    "def imprimirDatos(nombre, edad):\n",
    "    print(\"nombre: \" + nombre)\n",
    "    print(\"edad: \" + str(edad))\n",
    "    \n",
    "imprimirDatos(nombre=\"coco\", edad=45)\n",
    "# cuando usamos los keywords, el orden no interesa:\n",
    "imprimirDatos(edad=10, nombre=\"cachuchin\")"
   ]
  },
  {
   "cell_type": "code",
   "execution_count": 16,
   "metadata": {},
   "outputs": [
    {
     "name": "stdout",
     "output_type": "stream",
     "text": [
      "oso es un pastor ingles\n",
      "cachuchin es un chapi\n"
     ]
    }
   ],
   "source": [
    "# se pueden definir argumentos con un valor por defecto\n",
    "\n",
    "def imprimirMascota(nombre, raza=\"chapi\"):\n",
    "    print(nombre + \" es un \" + raza)\n",
    "\n",
    "imprimirMascota(\"oso\", \"pastor ingles\")\n",
    "imprimirMascota(\"cachuchin\")"
   ]
  },
  {
   "cell_type": "code",
   "execution_count": 18,
   "metadata": {},
   "outputs": [
    {
     "name": "stdout",
     "output_type": "stream",
     "text": [
      "3\n"
     ]
    }
   ],
   "source": [
    "# las variables locales funcionan igual que en otros lenguajes\n",
    "\n",
    "def promedio3(a, b, c):\n",
    "    suma = a + b + c\n",
    "    promedio = suma / 3.0\n",
    "    return promedio\n",
    "\n",
    "print(promedio3(2,3,4))"
   ]
  },
  {
   "cell_type": "code",
   "execution_count": 28,
   "metadata": {},
   "outputs": [
    {
     "name": "stdout",
     "output_type": "stream",
     "text": [
      "3.5\n",
      "6.16666666667\n"
     ]
    }
   ],
   "source": [
    "# se pueden definir funciones con una cantidad de argumentos variables\n",
    "\n",
    "def promedio(a, b, *otros):\n",
    "    suma = a + b\n",
    "    cantidad = 2.0\n",
    "    for otro in otros:\n",
    "        suma += otro\n",
    "        cantidad +=1\n",
    "        \n",
    "    promedio = suma / cantidad\n",
    "    return promedio\n",
    "\n",
    "print(promedio(2, 5))\n",
    "print(promedio(2, 5, 6, 7, 8, 9))\n"
   ]
  },
  {
   "cell_type": "markdown",
   "metadata": {},
   "source": [
    "## Ejercicio 1\n",
    "Escribir una funcion que devuelva 1 si los corresponden a una terna pitagorica\n",
    "\n"
   ]
  },
  {
   "cell_type": "code",
   "execution_count": 29,
   "metadata": {},
   "outputs": [
    {
     "ename": "TypeError",
     "evalue": "esPitagorica() takes no arguments (3 given)",
     "output_type": "error",
     "traceback": [
      "\u001b[0;31m---------------------------------------------------------------------------\u001b[0m",
      "\u001b[0;31mTypeError\u001b[0m                                 Traceback (most recent call last)",
      "\u001b[0;32m<ipython-input-29-7dda4b58d0b3>\u001b[0m in \u001b[0;36m<module>\u001b[0;34m()\u001b[0m\n\u001b[1;32m      4\u001b[0m \u001b[0;34m\u001b[0m\u001b[0m\n\u001b[1;32m      5\u001b[0m \u001b[0;34m\u001b[0m\u001b[0m\n\u001b[0;32m----> 6\u001b[0;31m \u001b[0;32mprint\u001b[0m\u001b[0;34m(\u001b[0m\u001b[0mesPitagorica\u001b[0m\u001b[0;34m(\u001b[0m\u001b[0;36m3\u001b[0m\u001b[0;34m,\u001b[0m\u001b[0;36m4\u001b[0m\u001b[0;34m,\u001b[0m\u001b[0;36m5\u001b[0m\u001b[0;34m)\u001b[0m\u001b[0;34m)\u001b[0m\u001b[0;34m\u001b[0m\u001b[0m\n\u001b[0m\u001b[1;32m      7\u001b[0m \u001b[0;34m\u001b[0m\u001b[0m\n",
      "\u001b[0;31mTypeError\u001b[0m: esPitagorica() takes no arguments (3 given)"
     ]
    }
   ],
   "source": [
    "def esPitagorica():\n",
    "    # ---> implementar la funcion aqui <--- #\n",
    "    pass\n",
    "\n",
    "\n",
    "print(esPitagorica(3,4,5))"
   ]
  },
  {
   "cell_type": "markdown",
   "metadata": {},
   "source": [
    "## Ejercicio 2\n",
    "Escriba una funcion que convierta un numero entero en un numero binario y devuelva una cadena con el numero binario resultante\n"
   ]
  },
  {
   "cell_type": "code",
   "execution_count": 30,
   "metadata": {},
   "outputs": [
    {
     "ename": "TypeError",
     "evalue": "convertirABinario() takes no arguments (1 given)",
     "output_type": "error",
     "traceback": [
      "\u001b[0;31m---------------------------------------------------------------------------\u001b[0m",
      "\u001b[0;31mTypeError\u001b[0m                                 Traceback (most recent call last)",
      "\u001b[0;32m<ipython-input-30-e9ac6df1d5a6>\u001b[0m in \u001b[0;36m<module>\u001b[0;34m()\u001b[0m\n\u001b[1;32m      2\u001b[0m     \u001b[0;31m# ---> Implementar la funcion aqui <--- #\u001b[0m\u001b[0;34m\u001b[0m\u001b[0;34m\u001b[0m\u001b[0m\n\u001b[1;32m      3\u001b[0m     \u001b[0;32mpass\u001b[0m\u001b[0;34m\u001b[0m\u001b[0m\n\u001b[0;32m----> 4\u001b[0;31m \u001b[0;32mprint\u001b[0m\u001b[0;34m(\u001b[0m\u001b[0mconvertirABinario\u001b[0m\u001b[0;34m(\u001b[0m\u001b[0;36m3\u001b[0m\u001b[0;34m)\u001b[0m\u001b[0;34m)\u001b[0m\u001b[0;34m\u001b[0m\u001b[0m\n\u001b[0m\u001b[1;32m      5\u001b[0m \u001b[0;32mprint\u001b[0m\u001b[0;34m(\u001b[0m\u001b[0mconvertirABinario\u001b[0m\u001b[0;34m(\u001b[0m\u001b[0;36m127\u001b[0m\u001b[0;34m)\u001b[0m\u001b[0;34m)\u001b[0m\u001b[0;34m\u001b[0m\u001b[0m\n\u001b[1;32m      6\u001b[0m \u001b[0;32mprint\u001b[0m\u001b[0;34m(\u001b[0m\u001b[0mconvertirABinario\u001b[0m\u001b[0;34m(\u001b[0m\u001b[0;36m65536\u001b[0m\u001b[0;34m)\u001b[0m\u001b[0;34m)\u001b[0m\u001b[0;34m\u001b[0m\u001b[0m\n",
      "\u001b[0;31mTypeError\u001b[0m: convertirABinario() takes no arguments (1 given)"
     ]
    }
   ],
   "source": [
    "def convertirABinario():\n",
    "    # ---> Implementar la funcion aqui <--- #\n",
    "    pass\n",
    "print(convertirABinario(3))\n",
    "print(convertirABinario(127))\n",
    "print(convertirABinario(65536))\n",
    "print(convertirABinario(666))\n"
   ]
  },
  {
   "cell_type": "markdown",
   "metadata": {},
   "source": [
    "## Listas, tuplas y diccionarios\n",
    "Las listas, tuplas y diccionarios son objetos de python muy utiles para agrupar varios valores, numeros u otra coleccion de elementos.\n",
    "\n",
    "### Listas\n",
    "Es una de las estructuras más versátiles en Python y se expresa en una coleccion de valores separados por coma "
   ]
  },
  {
   "cell_type": "code",
   "execution_count": 31,
   "metadata": {},
   "outputs": [],
   "source": [
    "# podemos crear una lista de numeros\n",
    "numeros = [3,4,6,1]\n",
    "# podemos crear una lista de cadenas\n",
    "nombres = [\"joanna\", \"raul\", \"hernando\", \"sonia\"]\n"
   ]
  },
  {
   "cell_type": "code",
   "execution_count": 32,
   "metadata": {},
   "outputs": [
    {
     "name": "stdout",
     "output_type": "stream",
     "text": [
      "3\n",
      "sonia\n"
     ]
    }
   ],
   "source": [
    "# para acceder a un elemento utilizamos los corchetes []\n",
    "print(numeros[0])\n",
    "print(nombres[3])\n"
   ]
  },
  {
   "cell_type": "code",
   "execution_count": 33,
   "metadata": {},
   "outputs": [
    {
     "name": "stdout",
     "output_type": "stream",
     "text": [
      "[9, 4, 6, 1]\n",
      "['joanna', 'raul', 4.75, 'sonia']\n"
     ]
    }
   ],
   "source": [
    "# para actualizar los valores usamos el mismo metodo\n",
    "\n",
    "numeros[0] = 9\n",
    "nombres[2] = 4.75\n",
    "print(numeros)\n",
    "print(nombres)"
   ]
  },
  {
   "cell_type": "markdown",
   "metadata": {},
   "source": [
    "### Operaciones con listas"
   ]
  },
  {
   "cell_type": "code",
   "execution_count": 34,
   "metadata": {},
   "outputs": [
    {
     "name": "stdout",
     "output_type": "stream",
     "text": [
      "4\n",
      "[9, 4, 6, 1, 3, 3, 3]\n"
     ]
    }
   ],
   "source": [
    "# longitud de la lista\n",
    "longitud = len(numeros)\n",
    "\n",
    "print(\"la lista tiene una longitud de \" + str(longitud) + \" elementos\")"
   ]
  },
  {
   "cell_type": "code",
   "execution_count": 35,
   "metadata": {},
   "outputs": [
    {
     "name": "stdout",
     "output_type": "stream",
     "text": [
      "[9, 4, 6, 1]\n",
      "[3, 3, 3]\n",
      "[9, 4, 6, 1, 3, 3, 3]\n"
     ]
    }
   ],
   "source": [
    "# concatenacion de listas\n",
    "otrosNumeros = [3, 3, 3]\n",
    "nueva = numeros + otrosNumeros\n",
    "print(numeros)\n",
    "print(otrosNumeros)\n",
    "print(nueva)"
   ]
  },
  {
   "cell_type": "code",
   "execution_count": 36,
   "metadata": {},
   "outputs": [
    {
     "name": "stdout",
     "output_type": "stream",
     "text": [
      "['joanna', 'raul', 4.75, 'sonia', 'joanna', 'raul', 4.75, 'sonia']\n"
     ]
    }
   ],
   "source": [
    "# repeticion\n",
    "print(nombres * 2)"
   ]
  },
  {
   "cell_type": "code",
   "execution_count": 37,
   "metadata": {},
   "outputs": [
    {
     "name": "stdout",
     "output_type": "stream",
     "text": [
      "True\n",
      "False\n",
      "True\n"
     ]
    }
   ],
   "source": [
    "# pertenencia\n",
    "print(4 in numeros)\n",
    "print(5 in otrosNumeros)\n",
    "print(\"raul\" in nombres)"
   ]
  },
  {
   "cell_type": "code",
   "execution_count": 38,
   "metadata": {},
   "outputs": [
    {
     "name": "stdout",
     "output_type": "stream",
     "text": [
      "9\n",
      "4\n",
      "6\n",
      "1\n",
      "3\n",
      "3\n",
      "3\n",
      "----------\n",
      "<type 'str'>\n",
      "joanna\n",
      "<type 'str'>\n",
      "raul\n",
      "<type 'float'>\n",
      "4.75\n",
      "<type 'str'>\n",
      "sonia\n"
     ]
    }
   ],
   "source": [
    "# iteracion sobre una lista\n",
    "for num in nueva:\n",
    "    print num\n",
    "\n",
    "print(\"----------\")\n",
    "\n",
    "for elemento in nombres:\n",
    "    print(type(elemento))\n",
    "    print(elemento)"
   ]
  },
  {
   "cell_type": "markdown",
   "metadata": {},
   "source": [
    "### Indexado y slicing"
   ]
  },
  {
   "cell_type": "code",
   "execution_count": 39,
   "metadata": {},
   "outputs": [
    {
     "name": "stdout",
     "output_type": "stream",
     "text": [
      "6\n",
      "6\n"
     ]
    }
   ],
   "source": [
    "# podemos acceder a los elementos de una lista desde adelante o atras\n",
    "lista = [2, 4, 6, 8, 10, 12, 14]\n",
    "print(lista[2])\n",
    "print(lista[-5])"
   ]
  },
  {
   "cell_type": "code",
   "execution_count": 40,
   "metadata": {},
   "outputs": [
    {
     "name": "stdout",
     "output_type": "stream",
     "text": [
      "[6, 8, 10]\n",
      "[2, 4, 6]\n",
      "[12, 14]\n"
     ]
    }
   ],
   "source": [
    "# podemos acceder a ciertos elementos de la lista usando los indices\n",
    "otraLista = lista[2:5]\n",
    "primeros3 = lista[:3]\n",
    "ultimos2 = lista[-2:]\n",
    "print(otraLista)\n",
    "print(primeros3)\n",
    "print(ultimos2)"
   ]
  },
  {
   "cell_type": "markdown",
   "metadata": {},
   "source": [
    "### Funciones y Metodos útiles\n",
    "Las listas (como todo en Python) son objetos y tienen varios métodos que resultan muy útiles"
   ]
  },
  {
   "cell_type": "code",
   "execution_count": 43,
   "metadata": {},
   "outputs": [
    {
     "name": "stdout",
     "output_type": "stream",
     "text": [
      "-1\n",
      "5\n",
      "6\n",
      "1\n"
     ]
    }
   ],
   "source": [
    "lista1 = [1,2,3,4,5]\n",
    "lista2 = [2,3,4,5,6]\n",
    "\n",
    "## funciones de listas\n",
    "#comparacion\n",
    "print(cmp(lista1, lista2))\n",
    "\n",
    "#longitud (de nuevo)\n",
    "print(len(lista1))\n",
    "\n",
    "# el maximo\n",
    "print(max(lista2))\n",
    "\n",
    "#el minimo\n",
    "print(min(lista1))\n"
   ]
  },
  {
   "cell_type": "code",
   "execution_count": 44,
   "metadata": {},
   "outputs": [
    {
     "name": "stdout",
     "output_type": "stream",
     "text": [
      "[1, 2, 3, 4, 5, 3]\n",
      "2\n",
      "1\n",
      "[3, 4, 5, 6]\n",
      "[1, 2, 3, 3, 4, 5]\n",
      "[6, 5, 4, 3]\n"
     ]
    }
   ],
   "source": [
    "## metodos de listas\n",
    "# agregar un elemento al final de la lista\n",
    "lista1.append(3)\n",
    "print(lista1)\n",
    "\n",
    "# contar las repeticiones de un elemento en la lista\n",
    "print(lista1.count(3))\n",
    "\n",
    "# obtener el indice de la primera aparicion de un elemento\n",
    "print(nombres.index(\"raul\"))\n",
    "\n",
    "# remover un objeto de la lista\n",
    "lista2.remove(2)\n",
    "print(lista2)\n",
    "\n",
    "# ordenar los elementos de la lista\n",
    "lista1.sort()\n",
    "print(lista1)\n",
    "lista2.reverse()\n",
    "# cambiar al orden inverso\n",
    "print(lista2)"
   ]
  },
  {
   "cell_type": "markdown",
   "metadata": {},
   "source": [
    "### Tuplas\n",
    "Mientras que las listas son objetos mutables en python, las tuplas son objetos inmutables.\n",
    "Eso quiere decir que una tupla no puede ser modificada y se define con parentesis."
   ]
  },
  {
   "cell_type": "code",
   "execution_count": 48,
   "metadata": {},
   "outputs": [
    {
     "name": "stdout",
     "output_type": "stream",
     "text": [
      "(2, 3, 4, 5, 6)\n",
      "6\n",
      "(2, 3)\n"
     ]
    }
   ],
   "source": [
    "tupla1 = (2, 3, 4, 5, 6)\n",
    "print(tupla1)\n",
    "# al igual que las listas, se puede acceder a los elementos de una tupla de la misma manera\n",
    "print(tupla1[-1])\n",
    "print(tupla1[:2])"
   ]
  },
  {
   "cell_type": "markdown",
   "metadata": {},
   "source": [
    "### Diccionarios\n",
    "Los diccionarios son los equivalentes a los maps en c++ o los hashtables en java.\n",
    "Contienen pares (key: value) donde el key es un identificador unico y el valor puede o no ser unico. Un diccionario se usa normalmente para emular una tabla."
   ]
  },
  {
   "cell_type": "code",
   "execution_count": 49,
   "metadata": {},
   "outputs": [
    {
     "name": "stdout",
     "output_type": "stream",
     "text": [
      "40\n",
      "(90, 60, 70)\n",
      "{'edad': 40, 'nombre': 'sebastian', 'notas': (90, 60, 70), 'estatura': 1.68}\n",
      "{'edad': 40, 'nombre': 'sebastian', 'nacionalidad': 'paraguayo', 'notas': (90, 60, 70), 'estatura': 1.68}\n"
     ]
    }
   ],
   "source": [
    "datos = {\"edad\": 40, \"nombre\": \"sebastian\", \"estatura\": 1.77, \"notas\":(90, 60, 70)}\n",
    "\n",
    "# se puede acceder a un valor del diccionario mediante el key\n",
    "print(datos[\"edad\"])\n",
    "print(datos[\"notas\"])\n",
    "\n",
    "# se puede modificar un valor mediante el key\n",
    "datos[\"estatura\"] = 1.68\n",
    "print(datos)\n",
    "\n",
    "#se puede crear un nuevo key\n",
    "datos[\"nacionalidad\"] = \"paraguayo\"\n",
    "print(datos)\n"
   ]
  },
  {
   "cell_type": "code",
   "execution_count": 51,
   "metadata": {},
   "outputs": [
    {
     "name": "stdout",
     "output_type": "stream",
     "text": [
      "[('edad', 40), ('nombre', 'sebastian'), ('nacionalidad', 'paraguayo'), ('notas', (90, 60, 70)), ('estatura', 1.68)]\n",
      "[40, 'sebastian', 'paraguayo', (90, 60, 70), 1.68]\n"
     ]
    }
   ],
   "source": [
    "# podemos extraer los datos del dicionario en una lista de tuplas\n",
    "datosList = datos.items()\n",
    "print(datosList)\n",
    "\n",
    "# podemos extraer solamente los valores (no ordenado)\n",
    "soloValores = datos.values()\n",
    "print(soloValores)"
   ]
  },
  {
   "cell_type": "code",
   "execution_count": 58,
   "metadata": {},
   "outputs": [
    {
     "name": "stdout",
     "output_type": "stream",
     "text": [
      "edad: 40\n",
      "nombre: sebastian\n",
      "nacionalidad: paraguayo\n",
      "notas: (90, 60, 70)\n",
      "estatura: 1.68\n",
      "----------------\n",
      "edad: 40\n",
      "nombre: sebastian\n",
      "nacionalidad: paraguayo\n",
      "notas: (90, 60, 70)\n",
      "estatura: 1.68\n"
     ]
    }
   ],
   "source": [
    "# podemos iterar sobre un diccionario usando los keys\n",
    "\n",
    "for e in datos:\n",
    "    print(e + \": \" + str(datos[e]))\n",
    "\n",
    "# tambien podemos usar el metodo iteritems() para iterar sobre el par (key,value)\n",
    "print(\"----------------\")\n",
    "for key, value in datos.iteritems():\n",
    "    print(key + \": \" + str(value))"
   ]
  },
  {
   "cell_type": "markdown",
   "metadata": {},
   "source": [
    "## Ejercicio 3\n",
    "Implementar en un script una pequeña base de datos que recopile la informacion de al menos 5 estudiantes y muestre estadisticas basicas acerca de dichos estudiantes.\n",
    "Los datos a recuperar serán:\n",
    "  - Nombres\n",
    "  - Apellidos\n",
    "  - CI\n",
    "  - Edad\n",
    "  - Estatura\n",
    "  - Notas\n",
    "    + Matematica\n",
    "    + Literatura\n",
    "    + Sociales\n",
    "    \n",
    "Las estadísticas a mostrar serán:\n",
    "  - Nota promedio em matemática\n",
    "  - Estatura promedio\n",
    "  - Edad promedio\n",
    "\n",
    "Además, una vez ingresados los datos de los estudiantes se deberá añadir una columna de **observacion** con una cadena de *aprobado* o *reprobado* segun corresponda con el promedio total de las 3 asignaturas\n"
   ]
  },
  {
   "cell_type": "code",
   "execution_count": null,
   "metadata": {},
   "outputs": [],
   "source": []
  }
 ],
 "metadata": {
  "kernelspec": {
   "display_name": "Python 2",
   "language": "python",
   "name": "python2"
  },
  "language_info": {
   "codemirror_mode": {
    "name": "ipython",
    "version": 2
   },
   "file_extension": ".py",
   "mimetype": "text/x-python",
   "name": "python",
   "nbconvert_exporter": "python",
   "pygments_lexer": "ipython2",
   "version": "2.7.12"
  }
 },
 "nbformat": 4,
 "nbformat_minor": 2
}
